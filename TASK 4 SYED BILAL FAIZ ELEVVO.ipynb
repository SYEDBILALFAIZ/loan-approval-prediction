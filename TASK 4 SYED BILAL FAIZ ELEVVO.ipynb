{
 "cells": [
  {
   "cell_type": "code",
   "execution_count": 5,
   "id": "3af4bcdf-5ef5-4442-8615-7b27ba77fa14",
   "metadata": {},
   "outputs": [
    {
     "name": "stdout",
     "output_type": "stream",
     "text": [
      "    Loan_ID Gender Married Dependents     Education Self_Employed  \\\n",
      "0  LP001002   Male      No          0      Graduate            No   \n",
      "1  LP001003   Male     Yes          1      Graduate            No   \n",
      "2  LP001005   Male     Yes          0      Graduate           Yes   \n",
      "3  LP001006   Male     Yes          0  Not Graduate            No   \n",
      "4  LP001008   Male      No          0      Graduate            No   \n",
      "\n",
      "   ApplicantIncome  CoapplicantIncome  LoanAmount  Loan_Amount_Term  \\\n",
      "0             5849                0.0         NaN             360.0   \n",
      "1             4583             1508.0       128.0             360.0   \n",
      "2             3000                0.0        66.0             360.0   \n",
      "3             2583             2358.0       120.0             360.0   \n",
      "4             6000                0.0       141.0             360.0   \n",
      "\n",
      "   Credit_History Property_Area Loan_Status  \n",
      "0             1.0         Urban           Y  \n",
      "1             1.0         Rural           N  \n",
      "2             1.0         Urban           Y  \n",
      "3             1.0         Urban           Y  \n",
      "4             1.0         Urban           Y  \n",
      "<class 'pandas.core.frame.DataFrame'>\n",
      "RangeIndex: 614 entries, 0 to 613\n",
      "Data columns (total 13 columns):\n",
      " #   Column             Non-Null Count  Dtype  \n",
      "---  ------             --------------  -----  \n",
      " 0   Loan_ID            614 non-null    object \n",
      " 1   Gender             601 non-null    object \n",
      " 2   Married            611 non-null    object \n",
      " 3   Dependents         599 non-null    object \n",
      " 4   Education          614 non-null    object \n",
      " 5   Self_Employed      582 non-null    object \n",
      " 6   ApplicantIncome    614 non-null    int64  \n",
      " 7   CoapplicantIncome  614 non-null    float64\n",
      " 8   LoanAmount         592 non-null    float64\n",
      " 9   Loan_Amount_Term   600 non-null    float64\n",
      " 10  Credit_History     564 non-null    float64\n",
      " 11  Property_Area      614 non-null    object \n",
      " 12  Loan_Status        614 non-null    object \n",
      "dtypes: float64(4), int64(1), object(8)\n",
      "memory usage: 62.5+ KB\n",
      "None\n",
      "Loan_ID               0\n",
      "Gender               13\n",
      "Married               3\n",
      "Dependents           15\n",
      "Education             0\n",
      "Self_Employed        32\n",
      "ApplicantIncome       0\n",
      "CoapplicantIncome     0\n",
      "LoanAmount           22\n",
      "Loan_Amount_Term     14\n",
      "Credit_History       50\n",
      "Property_Area         0\n",
      "Loan_Status           0\n",
      "dtype: int64\n"
     ]
    }
   ],
   "source": [
    "import pandas as pd\n",
    "import numpy as np\n",
    "import matplotlib.pyplot as plt\n",
    "import seaborn as sns\n",
    "\n",
    "df = pd.read_csv(r\"C:\\Users\\LENOVO\\Downloads\\archive (1)\\train_u6lujuX_CVtuZ9i (1).csv\")\n",
    "\n",
    "print(df.head())\n",
    "print(df.info())\n",
    "print(df.isnull().sum())\n"
   ]
  },
  {
   "cell_type": "code",
   "execution_count": 7,
   "id": "1dd59141-589b-41cd-8df1-010c167d0f3c",
   "metadata": {},
   "outputs": [
    {
     "name": "stdout",
     "output_type": "stream",
     "text": [
      "Missing:\n",
      " Loan_ID              0\n",
      "Gender               0\n",
      "Married              0\n",
      "Dependents           0\n",
      "Education            0\n",
      "Self_Employed        0\n",
      "ApplicantIncome      0\n",
      "CoapplicantIncome    0\n",
      "LoanAmount           0\n",
      "Loan_Amount_Term     0\n",
      "Credit_History       0\n",
      "Property_Area        0\n",
      "Loan_Status          0\n",
      "dtype: int64\n"
     ]
    }
   ],
   "source": [
    "# Step 1: Basic cleaning\n",
    "# 1) trim spaces in string columns\n",
    "for c in df.select_dtypes(include='object').columns:\n",
    "    df[c] = df[c].str.strip()\n",
    "\n",
    "# 2) convert obvious numeric columns if they are strings\n",
    "num_cols = ['ApplicantIncome','CoapplicantIncome','LoanAmount','Loan_Amount_Term','Credit_History']\n",
    "for col in num_cols:\n",
    "    if col in df.columns:\n",
    "        df[col] = pd.to_numeric(df[col], errors='coerce')\n",
    "\n",
    "# 3) missing value summary\n",
    "print(\"Missing:\\n\", df.isnull().sum())\n",
    "\n",
    "# 4) fill numeric missing with median, categorical with mode\n",
    "for c in df.columns:\n",
    "    if df[c].dtype in [np.float64, np.int64]:\n",
    "        df[c] = df[c].fillna(df[c].median())\n",
    "    else:\n",
    "        df[c] = df[c].fillna(df[c].mode().iloc[0])\n",
    "\n"
   ]
  },
  {
   "cell_type": "code",
   "execution_count": 8,
   "id": "73532ffc-a127-43e1-96d9-9f490e43d086",
   "metadata": {},
   "outputs": [
    {
     "name": "stdout",
     "output_type": "stream",
     "text": [
      "  Gender Married Dependents     Education Self_Employed  ApplicantIncome  \\\n",
      "0   Male      No          0      Graduate            No             5849   \n",
      "1   Male     Yes          1      Graduate            No             4583   \n",
      "2   Male     Yes          0      Graduate           Yes             3000   \n",
      "3   Male     Yes          0  Not Graduate            No             2583   \n",
      "4   Male      No          0      Graduate            No             6000   \n",
      "\n",
      "   CoapplicantIncome  LoanAmount  Loan_Amount_Term  Credit_History  \\\n",
      "0                0.0       128.0             360.0             1.0   \n",
      "1             1508.0       128.0             360.0             1.0   \n",
      "2                0.0        66.0             360.0             1.0   \n",
      "3             2358.0       120.0             360.0             1.0   \n",
      "4                0.0       141.0             360.0             1.0   \n",
      "\n",
      "  Property_Area Loan_Status  Total_Income  LoanAmount_log  \n",
      "0         Urban           Y        5849.0        4.859812  \n",
      "1         Rural           N        6091.0        4.859812  \n",
      "2         Urban           Y        3000.0        4.204693  \n",
      "3         Urban           Y        4941.0        4.795791  \n",
      "4         Urban           Y        6000.0        4.955827  \n"
     ]
    }
   ],
   "source": [
    "# Step 2: Feature engineering (optional but useful)\n",
    "# Example: total income\n",
    "if 'ApplicantIncome' in df.columns and 'CoapplicantIncome' in df.columns:\n",
    "    df['Total_Income'] = df['ApplicantIncome'] + df['CoapplicantIncome']\n",
    "\n",
    "# Example: log transform skewed money features\n",
    "if 'LoanAmount' in df.columns:\n",
    "    df['LoanAmount_log'] = np.log1p(df['LoanAmount'])\n",
    "\n",
    "# Drop ID column if exists\n",
    "if 'Loan_ID' in df.columns:\n",
    "    df.drop('Loan_ID', axis=1, inplace=True)\n",
    "\n",
    "print(df.head())\n"
   ]
  },
  {
   "cell_type": "code",
   "execution_count": 11,
   "id": "8f1684b9-d813-4586-af8b-91beb631cd5e",
   "metadata": {},
   "outputs": [
    {
     "name": "stdout",
     "output_type": "stream",
     "text": [
      "Shape of X (features): (614, 13)\n",
      "Shape of y (target): (614,)\n",
      "\n",
      "Sample features (X):\n",
      "  Gender Married Dependents     Education Self_Employed  ApplicantIncome  \\\n",
      "0   Male      No          0      Graduate            No             5849   \n",
      "1   Male     Yes          1      Graduate            No             4583   \n",
      "2   Male     Yes          0      Graduate           Yes             3000   \n",
      "3   Male     Yes          0  Not Graduate            No             2583   \n",
      "4   Male      No          0      Graduate            No             6000   \n",
      "\n",
      "   CoapplicantIncome  LoanAmount  Loan_Amount_Term  Credit_History  \\\n",
      "0                0.0       128.0             360.0             1.0   \n",
      "1             1508.0       128.0             360.0             1.0   \n",
      "2                0.0        66.0             360.0             1.0   \n",
      "3             2358.0       120.0             360.0             1.0   \n",
      "4                0.0       141.0             360.0             1.0   \n",
      "\n",
      "  Property_Area  Total_Income  LoanAmount_log  \n",
      "0         Urban        5849.0        4.859812  \n",
      "1         Rural        6091.0        4.859812  \n",
      "2         Urban        3000.0        4.204693  \n",
      "3         Urban        4941.0        4.795791  \n",
      "4         Urban        6000.0        4.955827  \n",
      "\n",
      "Sample target (y):\n",
      "0    1\n",
      "1    0\n",
      "2    1\n",
      "3    1\n",
      "4    1\n",
      "Name: Loan_Status, dtype: int64\n"
     ]
    }
   ],
   "source": [
    "# Step 3: Prepare X and y\n",
    "# Replace 'Loan_Status' with your actual target column name if different\n",
    "target = 'Loan_Status'   # usually 'Y'/'N' or 1/0\n",
    "\n",
    "# if Loan_Status is 'Y'/'N', convert to 1/0\n",
    "if df[target].dtype == object:\n",
    "    df[target] = df[target].map({'Y':1, 'N':0}).fillna(df[target])\n",
    "\n",
    "# Target and features\n",
    "y = df[target]\n",
    "X = df.drop(columns=[target])\n",
    "\n",
    "# Show output shapes and few rows\n",
    "print(\"Shape of X (features):\", X.shape)\n",
    "print(\"Shape of y (target):\", y.shape)\n",
    "\n",
    "print(\"\\nSample features (X):\")\n",
    "print(X.head())\n",
    "\n",
    "print(\"\\nSample target (y):\")\n",
    "print(y.head())\n"
   ]
  },
  {
   "cell_type": "code",
   "execution_count": 12,
   "id": "010fe431-0ff0-46b8-b7a1-3860c3032044",
   "metadata": {},
   "outputs": [
    {
     "name": "stdout",
     "output_type": "stream",
     "text": [
      "Training set shape (X_train): (491, 13)\n",
      "Test set shape (X_test): (123, 13)\n",
      "Training target shape (y_train): (491,)\n",
      "Test target shape (y_test): (123,)\n",
      "\n",
      "Sample X_train rows:\n",
      "    Gender Married Dependents     Education Self_Employed  ApplicantIncome  \\\n",
      "154   Male      No          0      Graduate            No             3254   \n",
      "239   Male     Yes          1      Graduate            No             3315   \n",
      "448   Male     Yes          2      Graduate            No             3340   \n",
      "471   Male     Yes          1  Not Graduate            No             2653   \n",
      "273   Male     Yes          0      Graduate            No             2620   \n",
      "\n",
      "     CoapplicantIncome  LoanAmount  Loan_Amount_Term  Credit_History  \\\n",
      "154                0.0        50.0             360.0             1.0   \n",
      "239                0.0        96.0             360.0             1.0   \n",
      "448             1710.0       150.0             360.0             0.0   \n",
      "471             1500.0       113.0             180.0             0.0   \n",
      "273             2223.0       150.0             360.0             1.0   \n",
      "\n",
      "    Property_Area  Total_Income  LoanAmount_log  \n",
      "154         Urban        3254.0        3.931826  \n",
      "239     Semiurban        3315.0        4.574711  \n",
      "448         Rural        5050.0        5.017280  \n",
      "471         Rural        4153.0        4.736198  \n",
      "273     Semiurban        4843.0        5.017280  \n",
      "\n",
      "Sample y_train values:\n",
      "154    1\n",
      "239    1\n",
      "448    0\n",
      "471    0\n",
      "273    1\n",
      "Name: Loan_Status, dtype: int64\n"
     ]
    }
   ],
   "source": [
    "# Step 4: Train-test split\n",
    "from sklearn.model_selection import train_test_split\n",
    "\n",
    "X_train, X_test, y_train, y_test = train_test_split(\n",
    "    X, y, test_size=0.2, random_state=42, stratify=y\n",
    ")\n",
    "\n",
    "# Show output shapes\n",
    "print(\"Training set shape (X_train):\", X_train.shape)\n",
    "print(\"Test set shape (X_test):\", X_test.shape)\n",
    "print(\"Training target shape (y_train):\", y_train.shape)\n",
    "print(\"Test target shape (y_test):\", y_test.shape)\n",
    "\n",
    "# Show few sample values\n",
    "print(\"\\nSample X_train rows:\")\n",
    "print(X_train.head())\n",
    "\n",
    "print(\"\\nSample y_train values:\")\n",
    "print(y_train.head())\n",
    "\n"
   ]
  },
  {
   "cell_type": "code",
   "execution_count": 13,
   "id": "73bdbb8c-ffc7-4360-b0f3-e7309235005a",
   "metadata": {},
   "outputs": [
    {
     "name": "stdout",
     "output_type": "stream",
     "text": [
      "Categorical Columns: ['Gender', 'Married', 'Dependents', 'Education', 'Self_Employed', 'Property_Area']\n",
      "Numerical Columns: ['ApplicantIncome', 'CoapplicantIncome', 'LoanAmount', 'Loan_Amount_Term', 'Credit_History', 'Total_Income', 'LoanAmount_log']\n",
      "\n",
      "After preprocessing:\n",
      "X_train_processed shape: (491, 22)\n",
      "X_test_processed shape: (123, 22)\n"
     ]
    }
   ],
   "source": [
    "# Step 5: Preprocessing (Encode categoricals + Scale numericals)\n",
    "from sklearn.preprocessing import OneHotEncoder, StandardScaler\n",
    "from sklearn.compose import ColumnTransformer\n",
    "\n",
    "# Identify categorical & numerical columns\n",
    "cat_cols = X.select_dtypes(include='object').columns\n",
    "num_cols = X.select_dtypes(exclude='object').columns\n",
    "\n",
    "print(\"Categorical Columns:\", list(cat_cols))\n",
    "print(\"Numerical Columns:\", list(num_cols))\n",
    "\n",
    "# Preprocessor: OneHotEncoder for categoricals, StandardScaler for numericals\n",
    "preprocessor = ColumnTransformer([\n",
    "    ('num', StandardScaler(), num_cols),\n",
    "    ('cat', OneHotEncoder(handle_unknown='ignore'), cat_cols)\n",
    "])\n",
    "\n",
    "# Fit & transform training data, transform test data\n",
    "X_train_processed = preprocessor.fit_transform(X_train)\n",
    "X_test_processed = preprocessor.transform(X_test)\n",
    "\n",
    "print(\"\\nAfter preprocessing:\")\n",
    "print(\"X_train_processed shape:\", X_train_processed.shape)\n",
    "print(\"X_test_processed shape:\", X_test_processed.shape)\n"
   ]
  },
  {
   "cell_type": "code",
   "execution_count": 14,
   "id": "3ef8d0e7-7b5c-4e01-8d9c-6aeb7b9f3c73",
   "metadata": {},
   "outputs": [
    {
     "name": "stdout",
     "output_type": "stream",
     "text": [
      "Accuracy on Test Data: 0.8617886178861789\n",
      "\n",
      "Classification Report:\n",
      "              precision    recall  f1-score   support\n",
      "\n",
      "           0       0.96      0.58      0.72        38\n",
      "           1       0.84      0.99      0.91        85\n",
      "\n",
      "    accuracy                           0.86       123\n",
      "   macro avg       0.90      0.78      0.81       123\n",
      "weighted avg       0.88      0.86      0.85       123\n",
      "\n",
      "\n",
      "Confusion Matrix:\n",
      "[[22 16]\n",
      " [ 1 84]]\n"
     ]
    }
   ],
   "source": [
    "# Step 6: Model Training and Evaluation\n",
    "from sklearn.linear_model import LogisticRegression\n",
    "from sklearn.metrics import accuracy_score, classification_report, confusion_matrix\n",
    "\n",
    "# Model initialize\n",
    "model = LogisticRegression(max_iter=1000)\n",
    "\n",
    "# Train model\n",
    "model.fit(X_train_processed, y_train)\n",
    "\n",
    "# Predict on test data\n",
    "y_pred = model.predict(X_test_processed)\n",
    "\n",
    "# Evaluation\n",
    "print(\"Accuracy on Test Data:\", accuracy_score(y_test, y_pred))\n",
    "\n",
    "print(\"\\nClassification Report:\")\n",
    "print(classification_report(y_test, y_pred))\n",
    "\n",
    "print(\"\\nConfusion Matrix:\")\n",
    "print(confusion_matrix(y_test, y_pred))\n"
   ]
  },
  {
   "cell_type": "code",
   "execution_count": 15,
   "id": "f164901d-423b-4b3d-8f57-65ae8fe31f60",
   "metadata": {},
   "outputs": [
    {
     "name": "stdout",
     "output_type": "stream",
     "text": [
      "Decision Tree Accuracy: 0.7154471544715447\n",
      "Random Forest Accuracy: 0.8292682926829268\n",
      "\n",
      "Model Comparison:\n",
      "Logistic Regression Accuracy: 0.8617886178861789\n",
      "Decision Tree Accuracy: 0.7154471544715447\n",
      "Random Forest Accuracy: 0.8292682926829268\n"
     ]
    }
   ],
   "source": [
    "# Step 7: Trying other models for comparison\n",
    "from sklearn.tree import DecisionTreeClassifier\n",
    "from sklearn.ensemble import RandomForestClassifier\n",
    "\n",
    "# Decision Tree\n",
    "dt_model = DecisionTreeClassifier(random_state=42)\n",
    "dt_model.fit(X_train_processed, y_train)\n",
    "dt_pred = dt_model.predict(X_test_processed)\n",
    "print(\"Decision Tree Accuracy:\", accuracy_score(y_test, dt_pred))\n",
    "\n",
    "# Random Forest\n",
    "rf_model = RandomForestClassifier(random_state=42)\n",
    "rf_model.fit(X_train_processed, y_train)\n",
    "rf_pred = rf_model.predict(X_test_processed)\n",
    "print(\"Random Forest Accuracy:\", accuracy_score(y_test, rf_pred))\n",
    "\n",
    "# Quick comparison\n",
    "print(\"\\nModel Comparison:\")\n",
    "print(\"Logistic Regression Accuracy:\", accuracy_score(y_test, y_pred))\n",
    "print(\"Decision Tree Accuracy:\", accuracy_score(y_test, dt_pred))\n",
    "print(\"Random Forest Accuracy:\", accuracy_score(y_test, rf_pred))\n"
   ]
  },
  {
   "cell_type": "code",
   "execution_count": 16,
   "id": "5d1937d8-9669-4d9f-b12d-9f4701af19b3",
   "metadata": {},
   "outputs": [
    {
     "data": {
      "image/png": "[encoded data removed]",
      "text/plain": [
       "<Figure size 1000x600 with 1 Axes>"
      ]
     },
     "metadata": {},
     "output_type": "display_data"
    }
   ],
   "source": [
    "# Step 8: Feature Importance from Random Forest\n",
    "import matplotlib.pyplot as plt\n",
    "import numpy as np\n",
    "\n",
    "# Get feature names from preprocessing\n",
    "# OneHotEncoder ke features kaam se extract karte hain\n",
    "cat_features = list(preprocessor.named_transformers_['cat'].get_feature_names_out(cat_cols))\n",
    "all_features = list(num_cols) + cat_features\n",
    "\n",
    "# Feature importance values\n",
    "importances = rf_model.feature_importances_\n",
    "\n",
    "# Sort by importance\n",
    "indices = np.argsort(importances)[::-1]\n",
    "\n",
    "# Plot top 15 important features\n",
    "plt.figure(figsize=(10,6))\n",
    "plt.bar(range(15), importances[indices[:15]], align='center')\n",
    "plt.xticks(range(15), [all_features[i] for i in indices[:15]], rotation=90)\n",
    "plt.title(\"Top 15 Feature Importances (Random Forest)\")\n",
    "plt.show()\n"
   ]
  },
  {
   "cell_type": "code",
   "execution_count": null,
   "id": "78765ba4-32b0-460b-8ac5-20dafd42cd49",
   "metadata": {},
   "outputs": [],
   "source": []
  }
 ],
 "metadata": {
  "kernelspec": {
   "display_name": "Python 3 (ipykernel)",
   "language": "python",
   "name": "python3"
  },
  "language_info": {
   "codemirror_mode": {
    "name": "ipython",
    "version": 3
   },
   "file_extension": ".py",
   "mimetype": "text/x-python",
   "name": "python",
   "nbconvert_exporter": "python",
   "pygments_lexer": "ipython3",
   "version": "3.12.7"
  }
 },
 "nbformat": 4,
 "nbformat_minor": 5
}
